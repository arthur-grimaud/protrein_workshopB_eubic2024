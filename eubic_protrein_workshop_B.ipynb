{
  "nbformat": 4,
  "nbformat_minor": 0,
  "metadata": {
    "colab": {
      "provenance": [],
      "toc_visible": true,
      "authorship_tag": "ABX9TyOiyJXqveJDTZ8d4v3ZrE/v",
      "include_colab_link": true
    },
    "kernelspec": {
      "name": "python3",
      "display_name": "Python 3"
    },
    "language_info": {
      "name": "python"
    }
  },
  "cells": [
    {
      "cell_type": "markdown",
      "metadata": {
        "id": "view-in-github",
        "colab_type": "text"
      },
      "source": [
        "<a href=\"https://colab.research.google.com/github/arthur-grimaud/protrein_workshopB_eubic2024/blob/main/eubic_protrein_workshop_B.ipynb\" target=\"_parent\"><img src=\"https://colab.research.google.com/assets/colab-badge.svg\" alt=\"Open In Colab\"/></a>"
      ]
    },
    {
      "cell_type": "markdown",
      "source": [
        "#Workshop session B: Phosphoproteomics data analysis\n",
        "\n",
        "This workshop aims to explore various strategies for PTM dataset analysis, offering a comprehensive understanding of key processing and validation approaches for PTM studies. Participants will work with a dataset of synthetic phosphopeptides, covering all analysis steps from spectrum identification to the validation and scoring of phosphorylation sites. The results from the different approaches investigated will be compared to assess their respective limitations and advantages.\n",
        "\n",
        "---\n"
      ],
      "metadata": {
        "id": "QOuvN8vbwCaE"
      }
    },
    {
      "cell_type": "markdown",
      "source": [
        "#Requirements\n",
        "\n",
        "## Dataset\n",
        "\n",
        "For this workshop you will be using a dataset published by [Ferries et al](https://pubs.acs.org/doi/10.1021/acs.jproteome.7b00337) of synthetic phosphopeptide analyzed on an Orbitrap Fusion. The raw file as well as the description of the experimental procedure are available here: https://ftp.pride.ebi.ac.uk/pride/data/archive/2019/09/PXD007058/.\n",
        "\n",
        "*▶* For *this* workshop, two files have to be downloaded (TODO which ?) :\n",
        "\n",
        "## Softwares\n",
        "\n",
        "(TODO add installation links)\n",
        "\n",
        "\n",
        "\n",
        "---\n",
        "\n"
      ],
      "metadata": {
        "id": "_hgXNnS4jTpe"
      }
    },
    {
      "cell_type": "markdown",
      "source": [
        "## 1-Spectra identification and scoring\n",
        "\n",
        "The first tasks of this workshop will consist in performing spectra identification using various approach. Open-search will be conducted with MS-fragger via frag pipe. Closed search with the database search engine Comet\n",
        "\n",
        "### Open-search with MS fragger\n",
        "\n",
        "TODO\n",
        "\n",
        "\n",
        "### Close-search with Comet\n",
        "\n",
        "TODO\n",
        "\n"
      ],
      "metadata": {
        "id": "ZscUiaB_hez4"
      }
    },
    {
      "cell_type": "markdown",
      "source": [
        "## 2-Workflow comparison\n",
        "\n",
        "(TODO here we have to write thte code and visualization for comparing the results from the different searches)"
      ],
      "metadata": {
        "id": "6jlwZu9Kl8ra"
      }
    },
    {
      "cell_type": "code",
      "execution_count": 1,
      "metadata": {
        "colab": {
          "base_uri": "https://localhost:8080/"
        },
        "id": "UAFl-j0CvFzJ",
        "outputId": "6bdc96bd-6014-4507-90b4-4e4a6fbc8285"
      },
      "outputs": [
        {
          "output_type": "stream",
          "name": "stdout",
          "text": [
            "Welcome to the Protrein workshop at EUBIC winterschool 2024\n"
          ]
        }
      ],
      "source": [
        "print(\"Welcome to the Protrein workshop at EUBIC winterschool 2024\")"
      ]
    },
    {
      "cell_type": "markdown",
      "source": [],
      "metadata": {
        "id": "be5dM40SwAh6"
      }
    }
  ]
}