{
  "nbformat": 4,
  "nbformat_minor": 0,
  "metadata": {
    "colab": {
      "provenance": [],
      "toc_visible": true,
      "include_colab_link": true
    },
    "kernelspec": {
      "name": "python3",
      "display_name": "Python 3"
    },
    "language_info": {
      "name": "python"
    }
  },
  "cells": [
    {
      "cell_type": "markdown",
      "metadata": {
        "id": "view-in-github",
        "colab_type": "text"
      },
      "source": [
        "<a href=\"https://colab.research.google.com/github/arthur-grimaud/protrein_workshopB_eubic2024/blob/main/eubic_protrein_workshop_B.ipynb\" target=\"_parent\"><img src=\"https://colab.research.google.com/assets/colab-badge.svg\" alt=\"Open In Colab\"/></a>"
      ]
    },
    {
      "cell_type": "markdown",
      "source": [
        "#Workshop session B: Phosphoproteomics data analysis\n",
        "\n",
        "This workshop aims to explore various strategies for PTM dataset analysis, offering a comprehensive understanding of key processing and validation approaches for PTM studies. Participants will work with a dataset of synthetic phosphopeptides, covering all analysis steps from spectrum identification to the validation and scoring of phosphorylation sites. The results from the different approaches investigated will be compared to assess their respective limitations and advantages.\n",
        "\n",
        "---\n"
      ],
      "metadata": {
        "id": "QOuvN8vbwCaE"
      }
    },
    {
      "cell_type": "markdown",
      "source": [
        "#Requirements\n",
        "\n",
        "## Dataset\n",
        "\n",
        "For this workshop you will be using a dataset published by [Ferries et al](https://pubs.acs.org/doi/10.1021/acs.jproteome.7b00337) of synthetic phosphopeptide analyzed on an Orbitrap Fusion.  In this paper, the authors compared three different fragmentation method (HCD, EThcD, and neutral-loss-triggered ET(ca/hc)D) with two analyzers for MS/MS (orbitrap (OT) and ion trap(IT)). Today you are going to use the first replicate raw files acquired by EThcD_OT.\n",
        "\n",
        "The raw file as well as the description of the experimental procedure are available here: https://ftp.pride.ebi.ac.uk/pride/data/archive/2019/09/PXD007058/.\n",
        "\n",
        "\n",
        "*▶* For *this* workshop, You can download the raw files by matching the correct names:\n",
        "1. SF_200217_pPeptideLibrary_pool1_EThcD_OT_rep1.raw\n",
        "2. SF_200217_pPeptideLibrary_pool2_EThcD_OT_rep1.raw\n",
        "3. SF_200217_pPeptideLibrary_pool3_EThcD_OT_rep1.raw\n",
        "4. SF_200217_pPeptideLibrary_pool4_EThcD_OT_rep1.raw\n",
        "5. SF_200217_pPeptideLibrary_pool5_EThcD_OT_rep1.raw\n",
        "\n",
        "\n",
        "\n",
        "## Softwares\n",
        "\n",
        "(TODO add installation links)\n",
        "\n",
        "Instalation of Comet: https://sourceforge.net/projects/comet-ms/files/\n",
        "Installation of pyAscore:\n",
        "```\n",
        "#Before downloading, you will need to have Python 3.6+ and g++ 7+ installed\n",
        "python3 --version\n",
        "g++ --version\n",
        "\n",
        "#Installation of pyAscore\n",
        "pip install pyascore\n",
        "```\n",
        "For further information: https://pyascore.readthedocs.io/en/latest/\n",
        "\n",
        "---\n",
        "\n"
      ],
      "metadata": {
        "id": "_hgXNnS4jTpe"
      }
    },
    {
      "cell_type": "markdown",
      "source": [
        "## 1-Spectra identification and scoring\n",
        "\n",
        "The first tasks of this workshop will consist in performing spectra identification using various approach. Open-search will be conducted with MS-fragger via frag pipe. Closed search with the database search engine Comet\n",
        "\n",
        "### Open-search with MS fragger\n",
        "\n",
        "TODO\n",
        "\n",
        "\n",
        "### Close-search with Comet\n",
        "\n",
        "TODO\n",
        "\n"
      ],
      "metadata": {
        "id": "ZscUiaB_hez4"
      }
    },
    {
      "cell_type": "markdown",
      "source": [
        "## 2-Workflow comparison\n",
        "\n",
        "(TODO here we have to write thte code and visualization for comparing the results from the different searches)"
      ],
      "metadata": {
        "id": "6jlwZu9Kl8ra"
      }
    },
    {
      "cell_type": "code",
      "execution_count": null,
      "metadata": {
        "colab": {
          "base_uri": "https://localhost:8080/"
        },
        "id": "UAFl-j0CvFzJ",
        "outputId": "6bdc96bd-6014-4507-90b4-4e4a6fbc8285"
      },
      "outputs": [
        {
          "output_type": "stream",
          "name": "stdout",
          "text": [
            "Welcome to the Protrein workshop at EUBIC winterschool 2024\n"
          ]
        }
      ],
      "source": [
        "print(\"Welcome to the Protrein workshop at EUBIC winterschool 2024\")"
      ]
    },
    {
      "cell_type": "markdown",
      "source": [],
      "metadata": {
        "id": "be5dM40SwAh6"
      }
    }
  ]
}